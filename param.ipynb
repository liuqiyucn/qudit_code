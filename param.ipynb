{
 "cells": [
  {
   "cell_type": "code",
   "execution_count": 1,
   "metadata": {},
   "outputs": [
    {
     "name": "stdout",
     "output_type": "stream",
     "text": [
      "Critical Current I_c: 0.04562716096122092 uA\n",
      "JJ area: 0.04562716096122092 um^2\n",
      "JJ width: 0.2281358048061046 um\n",
      "Xmon Capacitance: 1.647e-13 fF\n",
      "Anharmonicity: 117.60916399673832 MHz\n",
      "Ej/Ec ratio: 192.69126589187852\n",
      "Qubit Frequency: 4.5 GHz\n",
      "Resonator Frequency: 6.7 GHz\n",
      "kappa (Decay rate): 5.83e+05 Hz\n",
      "1/kappa (Decay time): 1.72e+03 ns\n",
      "Dispersive shift: 2.91e-01 MHz\n",
      "g (Coupling strength): 112.37 MHz\n"
     ]
    }
   ],
   "source": [
    "import numpy as np\n",
    "\n",
    "def calculate_params(capacitance = 1.647e-13):\n",
    "    # Constants\n",
    "    h_bar = 1.0545718e-34  # Planck constant over 2pi in Js\n",
    "    phi_0 = 2.067833831e-15  # Magnetic flux quantum in Wb\n",
    "    e = 1.60217662e-19  # Elementary charge in C\n",
    "    Zr = 50  # Ohm, characteristic impedance of the resonator\n",
    "    h = h_bar * 2*np.pi\n",
    "    c = capacitance\n",
    "    qubit_f = 4.5e9\n",
    "    resonator_f = 6.70e9\n",
    "    Delta = resonator_f - qubit_f\n",
    "    Qext = 11502\n",
    "    E_c = e**2 / (2*c)\n",
    "    alpha = E_c/h\n",
    "\n",
    "    kappa = resonator_f/Qext\n",
    "    kai = kappa/2\n",
    "    g = np.sqrt(kai * Delta * ((alpha + Delta) / alpha)) \n",
    "\n",
    "    def calculate_Ej(qubit = qubit_f, Ec = E_c):\n",
    "        return (qubit*h + Ec)**2/(8*Ec)\n",
    "\n",
    "    Ej = calculate_Ej()\n",
    "\n",
    "    phi_0 = h/(2*e)\n",
    "    I_c = Ej*2*np.pi/phi_0\n",
    "    jj_area = I_c/(0.5e-6)/2\n",
    "    jj_width = jj_area/0.2\n",
    "\n",
    "    print(f'Critical Current I_c: {I_c*1e6} uA')\n",
    "    print(f'JJ area: {jj_area} um^2')\n",
    "    print(f'JJ width: {jj_width} um')\n",
    "    print(f'Xmon Capacitance: {c} fF')\n",
    "    print(f'Anharmonicity: {alpha/1e6} MHz')\n",
    "    print(f'Ej/Ec ratio: {calculate_Ej()/E_c}')\n",
    "    print(f'Qubit Frequency: {qubit_f/1e9} GHz')\n",
    "    print(f'Resonator Frequency: {resonator_f/1e9} GHz')\n",
    "    print(f\"kappa (Decay rate): {kappa:.2e} Hz\")\n",
    "    print(f\"1/kappa (Decay time): {1/kappa*1e9:.2e} ns\")\n",
    "    print(f\"Dispersive shift: {kai*1e-6 :.2e} MHz\")\n",
    "    print(f\"g (Coupling strength): {g * 1e-6:.2f} MHz\")\n",
    "\n",
    "calculate_params()\n"
   ]
  },
  {
   "cell_type": "code",
   "execution_count": 2,
   "metadata": {},
   "outputs": [],
   "source": [
    "def calculate_params2(ratio = 200, alpha = 200e6):\n",
    "    # Constants\n",
    "    h_bar = 1.0545718e-34  # Planck constant over 2pi in Js\n",
    "    phi_0 = 2.067833831e-15  # Magnetic flux quantum in Wb\n",
    "    e = 1.60217662e-19  # Elementary charge in C\n",
    "    Zr = 50  # Ohm, characteristic impedance of the resonator\n",
    "    h = h_bar * 2*np.pi\n",
    "\n",
    "    alpha = alpha\n",
    "    E_c = alpha*h\n",
    "    c = e**2/(2*E_c)\n",
    "    Ej_Ec = ratio\n",
    "    Ej = E_c * Ej_Ec\n",
    "    qubit_f = (np.sqrt(8*Ej*E_c) - E_c)/h\n",
    "\n",
    "    resonator_f = 6.70e9\n",
    "    Delta = resonator_f - qubit_f\n",
    "    Qext = 11502\n",
    "    E_c = e**2 / (2*c)\n",
    "    alpha = E_c/h\n",
    "\n",
    "    kappa = resonator_f/Qext\n",
    "    kai = kappa/2\n",
    "    g = np.sqrt(kai * Delta * ((alpha + Delta) / alpha)) \n",
    "\n",
    "    phi_0 = h/(2*e)\n",
    "    I_c = Ej*2*np.pi/phi_0\n",
    "    jj_area = I_c/(0.5e-6)/2\n",
    "    jj_width = jj_area/0.2\n",
    "\n",
    "    print(f'Critical Current I_c: {I_c*1e6} uA')\n",
    "    print(f'JJ area: {jj_area} um^2')\n",
    "    print(f'JJ width: {jj_width} um')\n",
    "    print(f'Xmon Capacitance: {c} fF')\n",
    "    print(f'Anharmonicity: {alpha/1e6} MHz')\n",
    "    print(f'Ej/Ec ratio: {Ej_Ec}')\n",
    "    print(f'Qubit Frequency: {qubit_f/1e9} GHz')\n",
    "    print(f'Resonator Frequency: {resonator_f/1e9} GHz')\n",
    "    print(f\"kappa (Decay rate): {kappa:.2e} Hz\")\n",
    "    print(f\"1/kappa (Decay time): {1/kappa*1e9:.2e} ns\")\n",
    "    print(f\"Dispersive shift: {kai*1e-6 :.2e} MHz\")\n",
    "    print(f\"g (Coupling strength): {g * 1e-6:.2f} MHz\")\n"
   ]
  },
  {
   "cell_type": "code",
   "execution_count": 3,
   "metadata": {},
   "outputs": [
    {
     "name": "stdout",
     "output_type": "stream",
     "text": [
      "Critical Current I_c: 0.08053418078632522 uA\n",
      "JJ area: 0.08053418078632522 um^2\n",
      "JJ width: 0.4026709039316261 um\n",
      "Xmon Capacitance: 9.685114655131399e-14 fF\n",
      "Anharmonicity: 200.0 MHz\n",
      "Ej/Ec ratio: 200\n",
      "Qubit Frequency: 7.799999999999999 GHz\n",
      "Resonator Frequency: 6.7 GHz\n",
      "kappa (Decay rate): 5.83e+05 Hz\n",
      "1/kappa (Decay time): 1.72e+03 ns\n",
      "Dispersive shift: 2.91e-01 MHz\n",
      "g (Coupling strength): 37.97 MHz\n"
     ]
    }
   ],
   "source": [
    "calculate_params2()"
   ]
  }
 ],
 "metadata": {
  "kernelspec": {
   "display_name": "base",
   "language": "python",
   "name": "python3"
  },
  "language_info": {
   "codemirror_mode": {
    "name": "ipython",
    "version": 3
   },
   "file_extension": ".py",
   "mimetype": "text/x-python",
   "name": "python",
   "nbconvert_exporter": "python",
   "pygments_lexer": "ipython3",
   "version": "3.12.4"
  }
 },
 "nbformat": 4,
 "nbformat_minor": 2
}
