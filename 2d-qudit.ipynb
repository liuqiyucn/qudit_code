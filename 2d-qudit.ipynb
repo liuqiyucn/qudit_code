{
 "cells": [
  {
   "cell_type": "code",
   "execution_count": 2207,
   "metadata": {},
   "outputs": [],
   "source": [
    "import sys\n",
    "import gdsfactory as gf\n",
    "import numpy as np\n",
    "import matplotlib.pyplot as plt\n",
    "from gdsfactory.generic_tech import LAYER"
   ]
  },
  {
   "cell_type": "code",
   "execution_count": 2208,
   "metadata": {},
   "outputs": [],
   "source": [
    "@gf.cell\n",
    "def xmon(xmon_length , xmon_width, xmon_spacing, drive_spacing, flux_spacing):\n",
    "    unit_convert = 1000\n",
    "    xmon = gf.Component()\n",
    "    cross = gf.components.cross(xmon_length, xmon_width)\n",
    "    cross_polygons = cross.get_polygons()[LAYER.WG]\n",
    "    print(type(cross))\n",
    "    r1 = gf.kdb.Region(cross_polygons)\n",
    "    r2 = r1.sized(xmon_spacing*unit_convert)\n",
    "    r3 = r2 - r1\n",
    "    xmon.add_polygon(r3, layer=(1,0))\n",
    "    xmon.add_port(name = 'drive', \n",
    "                        center = [(xmon.dxmin - drive_spacing), (xmon.dymin + xmon.dymax)/2],\n",
    "                        width = 11,\n",
    "                        orientation = 0,\n",
    "                        layer = (1,0)\n",
    "                        )\n",
    "    xmon.add_port(name = 'flux', \n",
    "                        center = [(xmon.dxmin + xmon.dxmax)/2, (xmon.dymin - flux_spacing)],\n",
    "                        width = 11,\n",
    "                        orientation = 0,\n",
    "                        layer = (1,0)\n",
    "                        )\n",
    "    return xmon\n",
    "\n",
    "def resize(shape, size):\n",
    "    unit_convert = 1000\n",
    "    shape_polygons = shape.get_polygons()[LAYER.WG] \n",
    "    r1 = gf.kdb.Region(shape_polygons)\n",
    "    r2 = r1.sized(size*unit_convert)\n",
    "    r3 = r2 - r1\n",
    "    return r3\n",
    "\n",
    "def top_connector_mod(connector_length, connector_depth, metal_spacing,size):\n",
    "    # setting \n",
    "    outer_length = connector_length + 2*size + 2*metal_spacing\n",
    "    outer_width = connector_depth + size + metal_spacing\n",
    "    inner_length = connector_length + 2*size\n",
    "    inner_width = connector_depth + size\n",
    "\n",
    "    c = gf.Component()\n",
    "    container = gf.Component()\n",
    "    outer_rect = gf.components.rectangle(size = (outer_length, outer_width))\n",
    "    inner_rect = gf.components.rectangle(size = (inner_length, inner_width))\n",
    "    outer_ref = container << outer_rect\n",
    "    inner_ref = container << inner_rect\n",
    "    inner_ref.dmove([(outer_length - inner_length) /2, 0])\n",
    "    C = gf.boolean(A = outer_ref, B = inner_ref, operation='not', layer = (1,0))\n",
    "    r = resize(C, size)\n",
    "    c.add_polygon(r, layer=(1,0))\n",
    "    return c\n",
    "\n",
    "def get_center(ref):\n",
    "    return np.array([(ref.dxmax + ref.dxmin)/2, (ref.dymax + ref.dymin)/2])"
   ]
  },
  {
   "cell_type": "code",
   "execution_count": 2209,
   "metadata": {},
   "outputs": [
    {
     "name": "stdout",
     "output_type": "stream",
     "text": [
      "<class 'gdsfactory.component.Component'>\n"
     ]
    }
   ],
   "source": [
    "unit_convert = 1e3\n",
    "xmon_length = 450\n",
    "xmon_width = 48\n",
    "xmon_spacing = 20\n",
    "\n",
    "c = gf.Component()\n",
    "d = gf.Component()\n",
    "spacing = 4\n",
    "size = 5\n",
    "metal_spacing = 15\n",
    "top_connector = top_connector_mod(connector_length=2*xmon_spacing+xmon_width+2*spacing, connector_depth=60, metal_spacing=metal_spacing, size = size)\n",
    "top_ref = d << top_connector\n",
    "\n",
    "\n",
    "\n",
    "# adding ports\n",
    "drive_spacing = 4\n",
    "flux_spacing = 3\n",
    "xmon_ref = c <<xmon(xmon_length=xmon_length, xmon_width=xmon_width, xmon_spacing=xmon_spacing, drive_spacing=drive_spacing, flux_spacing=flux_spacing)\n",
    "\n",
    "dx = (xmon_ref.dxmax + xmon_ref.dxmin)/2 - (top_ref.dxmax + top_ref.dxmin)/2\n",
    "dy = xmon_ref.dymax  - top_ref.dymax\n",
    "top_ref.dmove([dx, dy + size * 2 + metal_spacing + spacing])\n",
    "\n",
    "\n",
    "boundary = c << gf.components.rectangle(size=(5000, 5000), layer=(2, 0), centered=True, port_type='optical')"
   ]
  },
  {
   "cell_type": "code",
   "execution_count": 2210,
   "metadata": {},
   "outputs": [
    {
     "data": {
      "text/plain": [
       "Port(name: top_connector, dwidth: 10.0, trans: r90 *1 0,274, layer: 1, port_type: optical)"
      ]
     },
     "execution_count": 2210,
     "metadata": {},
     "output_type": "execute_result"
    }
   ],
   "source": [
    "port_width = 10\n",
    "c.add_port(name='top', center=[(boundary.dxmax+boundary.dxmin)/2, boundary.dymax], width = port_width,orientation=-90, layer = (1,0))\n",
    "c.add_port(name='right', center=[boundary.dxmax, (boundary.dymax + boundary.dymin)/2], width = port_width,orientation=180, layer = (1,0))\n",
    "c.add_port(name='bot', center=[(boundary.dxmax+boundary.dxmin)/2, boundary.dymin], width = port_width,orientation=90, layer = (1,0))\n",
    "c.add_port(name='left', center=[boundary.dxmin, (boundary.dymax + boundary.dymin)/2], width = port_width,orientation=0, layer = (1,0))\n",
    "c.add_port(name = 'top_connector', center = [(top_ref.dxmax + top_ref.dxmin)/2, top_ref.dymax], width=port_width, orientation=90, layer=(1,0))"
   ]
  },
  {
   "cell_type": "markdown",
   "metadata": {},
   "source": [
    "# creating resonator"
   ]
  },
  {
   "cell_type": "code",
   "execution_count": 2211,
   "metadata": {},
   "outputs": [],
   "source": [
    "epsilon_r = 11.45\n",
    "epsilon_eff = (epsilon_r + 1)/2\n",
    "\n",
    "def calculate_resonator_length(epsilon_eff, frequency):\n",
    "    c = 299792458\n",
    "    return c/(4*frequency*np.sqrt(epsilon_eff))\n",
    "\n",
    "def calculate_resonator_frequency(epsilon_eff, length):\n",
    "    c = 299792458\n",
    "    return c/(np.sqrt(epsilon_eff) * 4 * length)\n",
    "\n",
    "def one_cycle(length, radius):\n",
    "    P = gf.Path()\n",
    "    P += gf.path.straight(length=length)\n",
    "    P += gf.path.arc(radius=radius, angle = 180, npoints=1000)  # Circular arc\n",
    "    P += gf.path.straight(length=length)  # Straight section\n",
    "    P += gf.path.arc(radius=radius, angle = -180, npoints=1000)  # Circular arc\n",
    "    return P.length() \n",
    "\n",
    "def create_resonator(length, radius, number_of_cycle):\n",
    "    P = gf.Path()\n",
    "\n",
    "    for i in range(int(number_of_cycle)):\n",
    "        if i == 0:\n",
    "            P += gf.path.straight(length=length)\n",
    "            P += gf.path.arc(radius=radius, angle = 90, npoints=100)  # Circular arc\n",
    "            P += gf.path.straight(length=100)\n",
    "            P += gf.path.arc(radius=radius, angle=90, npoints=100)\n",
    "\n",
    "        else:\n",
    "            P += gf.path.straight(length=length)\n",
    "            P += gf.path.arc(radius=radius, angle = 180, npoints=100)  # Circular arc\n",
    "        P += gf.path.straight(length=length)  # Straight section\n",
    "        P += gf.path.arc(radius=radius, angle = -180, npoints=100)  # Circular arc\n",
    "    \n",
    "    P += gf.path.straight(length=length//2-radius)\n",
    "    P += gf.path.arc(radius=radius, angle = 90, npoints=100)\n",
    "    P += gf.path.straight(length = 180)\n",
    "    return P.dmirror((1,0))\n",
    "\n",
    "def resonator(epsilon_eff, frequency = 6.7e9, length = 300, radius = 30):\n",
    "    resonator_length_theory = calculate_resonator_length(epsilon_eff, frequency)*1e6\n",
    "    number_of_cycle = 5\n",
    "    Path = create_resonator(length, radius, number_of_cycle)\n",
    "    Path_length = Path.length() + 80\n",
    "    print(f'Path length: {Path_length} um')\n",
    "    print('resonator_frequency: ', f'{np.round(calculate_resonator_frequency(epsilon_eff, Path_length*1e-6)/1e9,3)} GHz' )\n",
    "\n",
    "    resonator_width = 10\n",
    "    tunnel_width = 6\n",
    "    s0 = gf.Section(width=resonator_width, offset=0, layer=(1,0))\n",
    "    s1 = gf.Section(width=tunnel_width, offset=resonator_width/2 + tunnel_width/2, layer=(1, 0))\n",
    "    s2 = gf.Section(width=tunnel_width, offset=-(resonator_width/2 + tunnel_width/2), layer=(1, 0))\n",
    "    x = gf.CrossSection(sections=[s1, s2])\n",
    "\n",
    "    c = gf.path.extrude(Path, cross_section=x)\n",
    "    return c "
   ]
  },
  {
   "cell_type": "code",
   "execution_count": 2212,
   "metadata": {},
   "outputs": [
    {
     "name": "stdout",
     "output_type": "stream",
     "text": [
      "Path length: 4469.565 um\n",
      "resonator_frequency:  6.721 GHz\n"
     ]
    }
   ],
   "source": [
    "resonator_qubit_offset = 100\n",
    "my_resonator = resonator(epsilon_eff)\n",
    "resonator_ref = c << my_resonator\n",
    "resonator_ref.dmove((get_center(top_ref) - get_center(resonator_ref)))\n",
    "resonator_ref.dmove([0, top_ref.dymax - resonator_ref.dymin-5])\n",
    "resonator_ymax = resonator_ref.dymax\n",
    "\n",
    "# creating subtraction\n",
    "subtraction = gf.boolean(top_ref, resonator_ref, operation='and')\n",
    "merged = gf.boolean(top_ref, resonator_ref, operation='or')\n",
    "abc = gf.boolean(merged, subtraction, '-')\n",
    "abc_1 = gf.boolean(merged, abc, '-')\n",
    "\n",
    "temp = gf.Component()\n",
    "rec = gf.components.rectangle(size = (10, 5), centered=True)\n",
    "rec_ref = temp << rec\n",
    "rec_ref.dmove(\n",
    "    ( - (rec_ref.dxmin + rec_ref.dxmax)/2 + (abc_1.dxmin + abc_1.dxmax)/2, \n",
    "                - (rec_ref.dymin + rec_ref.dxmax)/2 + (abc_1.dymin + abc_1.dymax)/2 + 1.25)\n",
    "               )\n",
    "\n",
    "remain = gf.boolean(top_ref, rec_ref, '-')\n",
    "remain_ref = c << remain"
   ]
  },
  {
   "cell_type": "markdown",
   "metadata": {},
   "source": [
    "# adding pad"
   ]
  },
  {
   "cell_type": "code",
   "execution_count": 2213,
   "metadata": {},
   "outputs": [],
   "source": [
    "pad = gf.read.import_gds(gdspath='pad.gds')\n",
    "\n",
    "pad.add_port('back', center=[pad.dxmin,(pad.dymax + pad.dymin)/2], layer=(1,0), width=10, orientation=180)\n",
    "pad.add_port('front', center=[pad.dxmax,(pad.dymax + pad.dymin)/2], layer = (1,0), width=10, orientation=0)\n",
    "\n",
    "left_pad = c << pad\n",
    "left_pad.connect(\"back\", c.ports['left'], allow_layer_mismatch=True)\n",
    "\n",
    "pad = gf.read.import_gds(gdspath='bot-connector.gds')\n",
    "pad.add_port('back', center=[pad.dxmin,(pad.dymax + pad.dymin)/2], layer=(1,0), width=10, orientation=180)\n",
    "pad.add_port('front', center=[pad.dxmax,(pad.dymax + pad.dymin)/2], layer = (1,0), width=10, orientation=0)\n",
    "bot_pad = c << pad\n",
    "bot_pad.connect(\"back\", c.ports['bot'], allow_layer_mismatch=True)\n"
   ]
  },
  {
   "cell_type": "code",
   "execution_count": 2214,
   "metadata": {},
   "outputs": [],
   "source": [
    "pad = gf.read.import_gds(gdspath='pad_transmission.gds')\n",
    "\n",
    "pad.add_port('back', center=[pad.dxmin,(pad.dymax + pad.dymin)/2], layer=(1,0), width=10, orientation=180)\n",
    "pad.add_port('front', center=[pad.dxmax,(pad.dymax + pad.dymin)/2], layer = (1,0), width=10, orientation=0)\n",
    "\n",
    "top_pad = c << pad\n",
    "top_pad.connect(\"back\", c.ports['top'], allow_layer_mismatch=True)\n",
    "right_pad = c << pad\n",
    "right_pad.connect(\"back\", c.ports['right'], allow_layer_mismatch=True)"
   ]
  },
  {
   "cell_type": "markdown",
   "metadata": {},
   "source": [
    "# transmission line routing"
   ]
  },
  {
   "cell_type": "code",
   "execution_count": 2215,
   "metadata": {},
   "outputs": [],
   "source": [
    "inner = gf.Component()\n",
    "outer = gf.Component()\n",
    "tranmission_width = 20\n",
    "tranmission_tunnel_width = 12\n",
    "tranmission_resonator_offset = 4\n",
    "xs_1 = gf.cross_section.cross_section(width=tranmission_width, layer=(1,0))\n",
    "xs_2 = gf.cross_section.cross_section(width=tranmission_width + 2*tranmission_tunnel_width, layer=(1,0))\n",
    "\n",
    "\n",
    "tranmission_turn = 800\n",
    "y_pos = resonator_ymax + tranmission_turn - 200 \n",
    "y_pos2 = resonator_ymax + tranmission_width/2 + tranmission_tunnel_width + tranmission_resonator_offset\n",
    "\n",
    "route_inner = gf.routing.route_single_from_steps(\n",
    "    inner, \n",
    "    port1 = top_pad.ports['front'],\n",
    "    port2 = right_pad.ports['front'],\n",
    "    allow_width_mismatch = False,\n",
    "    cross_section = xs_1,\n",
    "    steps = [\n",
    "        {\"x\": 0, \"y\": y_pos},\n",
    "        {\"x\": -500, \"y\": y_pos},\n",
    "        {\"x\": -500, \"y\": y_pos2},\n",
    "        {\"x\": y_pos2, \"y\": y_pos2},\n",
    "        {\"x\": y_pos2, \"y\": 0},\n",
    "    ],\n",
    "    radius = 50,\n",
    ")\n",
    "\n",
    "route_outer = gf.routing.route_single_from_steps(\n",
    "    outer, \n",
    "    port1 = top_pad.ports['front'],\n",
    "    port2 = right_pad.ports['front'],\n",
    "    allow_width_mismatch = False,\n",
    "    cross_section = xs_2,\n",
    "    steps = [\n",
    "        {\"x\": 0, \"y\": y_pos},\n",
    "        {\"x\": -500, \"y\": y_pos},\n",
    "        {\"x\": -500, \"y\": y_pos2},\n",
    "        {\"x\": y_pos2, \"y\": y_pos2},\n",
    "        {\"x\": y_pos2, \"y\": 0},\n",
    "    ],\n",
    "    radius = 50,\n",
    ")"
   ]
  },
  {
   "cell_type": "code",
   "execution_count": 2216,
   "metadata": {},
   "outputs": [],
   "source": [
    "tunnel = gf.boolean(A=outer, B = inner, operation='A-B', layer=(1,0))\n",
    "tunnel_ref = c << tunnel"
   ]
  },
  {
   "cell_type": "markdown",
   "metadata": {},
   "source": [
    "# drive outing"
   ]
  },
  {
   "cell_type": "code",
   "execution_count": 2217,
   "metadata": {},
   "outputs": [],
   "source": [
    "drive_xmon = gf.read.import_gds(gdspath='drive-xmon.gds')\n",
    "\n",
    "drive_xmon.add_port('back', center=[drive_xmon.dxmin,(drive_xmon.dymax + drive_xmon.dymin)/2], layer=(1,0), width=10, orientation=180)\n",
    "drive_xmon.add_port('front', center=[drive_xmon.dxmax,(drive_xmon.dymax + drive_xmon.dymin)/2], layer = (1,0), width=10, orientation=180)\n",
    "\n",
    "drive_xmon_ref = c << drive_xmon\n",
    "drive_xmon_ref.connect(\"front\", xmon_ref.ports['drive'], allow_layer_mismatch=True, allow_width_mismatch=True)\n",
    "\n",
    "inner = gf.Component()\n",
    "outer = gf.Component()\n",
    "tranmission_width = 10 \n",
    "tranmission_resonator_offset = 4\n",
    "xs_1 = gf.cross_section.cross_section(width=tranmission_width, layer=(1,0))\n",
    "xs_2 = gf.cross_section.cross_section(width=tranmission_width + tranmission_tunnel_width, layer=(1,0))\n",
    "\n",
    "\n",
    "route_inner = gf.routing.route_single(\n",
    "    inner, \n",
    "    port1 = left_pad.ports['front'],\n",
    "    port2 = drive_xmon_ref.ports['back'],\n",
    "    allow_width_mismatch = True,\n",
    "    cross_section = xs_1,\n",
    "    radius = 50,\n",
    ")\n",
    "\n",
    "route_outer = gf.routing.route_single(\n",
    "    outer, \n",
    "    port1 = left_pad.ports['front'],\n",
    "    port2 = drive_xmon_ref.ports['back'],\n",
    "    allow_width_mismatch = True,\n",
    "    cross_section = xs_2,\n",
    "    radius = 50,\n",
    ")\n",
    "\n",
    "drive_tunnel = gf.boolean(A=outer, B = inner, operation='A-B', layer=(1,0))\n",
    "drive_tunnel_ref = c << drive_tunnel"
   ]
  },
  {
   "cell_type": "markdown",
   "metadata": {},
   "source": [
    "# flux routing"
   ]
  },
  {
   "cell_type": "code",
   "execution_count": 2218,
   "metadata": {},
   "outputs": [],
   "source": [
    "\n",
    "flux_xmon = gf.read.import_gds(gdspath='flux-xmon.gds')\n",
    "\n",
    "flux_xmon.add_port('top', center=[(-3+1)/2, flux_xmon.dymax], layer=(1,0), width=10, orientation=180)\n",
    "flux_xmon.add_port('bot', center=[(-3+1)/2,flux_xmon.dymin], layer = (1,0), width=10, orientation=270)\n",
    "\n",
    "flux_xmon_ref = c << flux_xmon\n",
    "flux_xmon_ref.connect(\"top\", xmon_ref.ports['flux'], allow_layer_mismatch=True, allow_width_mismatch=True)\n",
    "\n",
    "inner = gf.Component()\n",
    "outer = gf.Component()\n",
    "tranmission_width = 10\n",
    "tranmission_tunnel_width = 5\n",
    "xs_1 = gf.cross_section.cross_section(width=tranmission_width, layer=(1,0))\n",
    "xs_2 = gf.cross_section.cross_section(width=tranmission_width + 2*tranmission_tunnel_width, layer=(1,0))\n",
    "\n",
    "\n",
    "route_inner = gf.routing.route_single(\n",
    "    inner, \n",
    "    port1 = bot_pad.ports['front'],\n",
    "    port2 = flux_xmon_ref.ports['bot'],\n",
    "    allow_width_mismatch = True,\n",
    "    cross_section = xs_1,\n",
    "    radius = 50,\n",
    ")\n",
    "\n",
    "route_outer = gf.routing.route_single(\n",
    "    outer, \n",
    "    port1 = bot_pad.ports['front'],\n",
    "    port2 = flux_xmon_ref.ports['bot'],\n",
    "    allow_width_mismatch = True,\n",
    "    cross_section = xs_2,\n",
    "    radius = 50,\n",
    ")\n",
    "\n",
    "flux_tunnel = gf.boolean(A=outer, B = inner, operation='A-B', layer=(1,0))\n",
    "flux_tunnel_ref = c << flux_tunnel"
   ]
  },
  {
   "cell_type": "code",
   "execution_count": 2219,
   "metadata": {},
   "outputs": [
    {
     "data": {
      "text/plain": [
       "WindowsPath('qudit-version0-0708.gds')"
      ]
     },
     "execution_count": 2219,
     "metadata": {},
     "output_type": "execute_result"
    }
   ],
   "source": [
    "c.write_gds('qudit-version0-0708.gds')"
   ]
  },
  {
   "cell_type": "code",
   "execution_count": 54,
   "metadata": {},
   "outputs": [
    {
     "name": "stdout",
     "output_type": "stream",
     "text": [
      "Critical Current I_c: 0.04562716096122092 uA\n",
      "JJ area: 0.04562716096122092 um^2\n",
      "JJ width: 0.2281358048061046 um\n",
      "Xmon Capacitance: 1.6469999999999998e-08 fF\n",
      "Anharmonicity: 117.60916399673832 MHz\n",
      "Ej/Ec ratio: 192.69126589187852\n",
      "Qubit Frequency: 4.5 GHz\n",
      "Resonator Frequency: 6.7 GHz\n",
      "kappa (Decay rate): 5.83e+05 Hz\n",
      "1/kappa (Decay time): 1.72e+03 ns\n",
      "Dispersive shift: 2.91e-01 MHz\n",
      "g (Coupling strength): 112.37 MHz\n"
     ]
    }
   ],
   "source": [
    "import numpy as np\n",
    "# Constants\n",
    "h_bar = 1.0545718e-34  # Planck constant over 2pi in Js\n",
    "phi_0 = 2.067833831e-15  # Magnetic flux quantum in Wb\n",
    "e = 1.60217662e-19  # Elementary charge in C\n",
    "Zr = 50  # Ohm, characteristic impedance of the resonator\n",
    "h = h_bar * 2*np.pi\n",
    "c = 1.647e-13\n",
    "qubit_f = 4.5e9\n",
    "resonator_f = 6.70e9\n",
    "Delta = resonator_f - qubit_f\n",
    "Qext = 11502\n",
    "E_c = e**2 / (2*c)\n",
    "alpha = E_c/h\n",
    "\n",
    "kappa = resonator_f/Qext\n",
    "kai = kappa/2\n",
    "g = np.sqrt(kai * Delta * ((alpha + Delta) / alpha)) \n",
    "\n",
    "def calculate_Ej(qubit = qubit_f, Ec = E_c):\n",
    "    return (qubit*h + Ec)**2/(8*Ec)\n",
    "\n",
    "Ej = calculate_Ej()\n",
    "phi_0 = h/(2*e)\n",
    "I_c = Ej*2*np.pi/phi_0\n",
    "jj_area = I_c/(0.5e-6)/2\n",
    "jj_width = jj_area/0.2\n",
    "\n",
    "print(f'Critical Current I_c: {I_c*1e6} uA')\n",
    "print(f'JJ area: {jj_area} um^2')\n",
    "print(f'JJ width: {jj_width} um')\n",
    "print(f'Xmon Capacitance: {c*1e5} fF')\n",
    "print(f'Anharmonicity: {alpha/1e6} MHz')\n",
    "print(f'Ej/Ec ratio: {calculate_Ej()/E_c}')\n",
    "print(f'Qubit Frequency: {qubit_f/1e9} GHz')\n",
    "print(f'Resonator Frequency: {resonator_f/1e9} GHz')\n",
    "print(f\"kappa (Decay rate): {kappa:.2e} Hz\")\n",
    "print(f\"1/kappa (Decay time): {1/kappa*1e9:.2e} ns\")\n",
    "print(f\"Dispersive shift: {kai*1e-6 :.2e} MHz\")\n",
    "print(f\"g (Coupling strength): {g * 1e-6:.2f} MHz\")\n"
   ]
  },
  {
   "cell_type": "code",
   "execution_count": 2,
   "metadata": {},
   "outputs": [
    {
     "name": "stdout",
     "output_type": "stream",
     "text": [
      "GDS file loaded successfully.\n"
     ]
    }
   ],
   "source": [
    "import gdsfactory as gf\n",
    "# Load the GDS file\n",
    "try:\n",
    "    gds_file = gf.import_gds(\"qudit-version0-0708.gds\")\n",
    "    print(\"GDS file loaded successfully.\")\n",
    "except Exception as e:\n",
    "    print(f\"Error loading GDS file: {e}\")"
   ]
  },
  {
   "cell_type": "code",
   "execution_count": 3,
   "metadata": {},
   "outputs": [
    {
     "data": {
      "image/png": "[encoded data removed]",
      "text/plain": [
       "<Figure size 800x600 with 1 Axes>"
      ]
     },
     "metadata": {},
     "output_type": "display_data"
    }
   ],
   "source": [
    "gds_file.plot()"
   ]
  },
  {
   "cell_type": "code",
   "execution_count": 1,
   "metadata": {},
   "outputs": [],
   "source": [
    "import gdsfactory as gf\n",
    "\n",
    "c = gf.components.delay_snake(length=1600, length0=0, length2=0, n=4, cross_section='strip')"
   ]
  },
  {
   "cell_type": "code",
   "execution_count": 42,
   "metadata": {},
   "outputs": [],
   "source": [
    "def JJ(FINGER_length):\n",
    "    assert (FINGER_length >= 0.1 and FINGER_length <= 6)\n",
    "\n",
    "    canvas_jj = gf.Component()\n",
    "    left_rectangle_ref = canvas_jj << gf.components.rectangle(size=(14,4), port_type='optical', layer=(3,0))\n",
    "    taper = gf.components.taper2(\n",
    "        length=0.5, \n",
    "        width1=4, \n",
    "        width2=FINGER_length, \n",
    "        with_two_ports=True, \n",
    "        cross_section='strip', \n",
    "        port_names=('o1', 'o2'), \n",
    "        port_types=('optical', 'optical'), \n",
    "        with_bbox=True,\n",
    "        layer = (3,0))\n",
    "    taper_ref = canvas_jj << taper\n",
    "    taper_ref.connect(\"o1\", left_rectangle_ref.ports['o3'], allow_layer_mismatch=True)\n",
    "    finger_ref = canvas_jj << gf.components.rectangle(size=(1.36, FINGER_length), port_type='optical', layer = (3,0))\n",
    "    finger_ref.connect(\"o1\", taper_ref.ports['o2'], allow_layer_mismatch = True)\n",
    "    \n",
    "    right_rectangle_ref = canvas_jj << gf.components.rectangle(size=(16,4), port_type='optical', layer=(3,0))\n",
    "    right_rectangle_ref.dmove(( finger_ref.dxmax + 0.14, 0 ))\n",
    "\n",
    "    return canvas_jj"
   ]
  },
  {
   "cell_type": "code",
   "execution_count": 53,
   "metadata": {},
   "outputs": [
    {
     "name": "stdout",
     "output_type": "stream",
     "text": [
      "\u001b[32m2024-07-12 15:32:08.394\u001b[0m | \u001b[33m\u001b[1mWARNING \u001b[0m | \u001b[36mgdsfactory.component\u001b[0m:\u001b[36m__getattribute__\u001b[0m:\u001b[36m128\u001b[0m - \u001b[33m\u001b[1mGetting `Unnamed_62_16000_2000.rotate` in um is deprecated and will change to DataBaseUnits in gdsfactory9. Please use `Unnamed_62_16000_2000.drotate` instead. For further information, please consult the migration guide https://gdsfactory.github.io/gdsfactory/notebooks/21_migration_guide_7_8.html\u001b[0m\n",
      "\u001b[32m2024-07-12 15:32:08.395\u001b[0m | \u001b[33m\u001b[1mWARNING \u001b[0m | \u001b[36mgdsfactory.component\u001b[0m:\u001b[36m__getattribute__\u001b[0m:\u001b[36m128\u001b[0m - \u001b[33m\u001b[1mGetting `Unnamed_62_16000_2000.rotate` in um is deprecated and will change to DataBaseUnits in gdsfactory9. Please use `Unnamed_62_16000_2000.drotate` instead. For further information, please consult the migration guide https://gdsfactory.github.io/gdsfactory/notebooks/21_migration_guide_7_8.html\u001b[0m\n"
     ]
    },
    {
     "data": {
      "image/png": "[encoded data removed]",
      "text/plain": [
       "<Figure size 800x600 with 1 Axes>"
      ]
     },
     "metadata": {},
     "output_type": "display_data"
    }
   ],
   "source": [
    "canvas = gf.Component()\n",
    "jj = JJ(0.5)\n",
    "jj_ref1 = canvas << jj\n",
    "jj_ref2 = canvas << jj\n",
    "jj_ref1.rotate(-90)\n",
    "jj_ref2.rotate(-90)\n",
    "jj_ref2.dmovex(20)\n",
    "canvas.plot()"
   ]
  },
  {
   "cell_type": "code",
   "execution_count": null,
   "metadata": {},
   "outputs": [],
   "source": []
  }
 ],
 "metadata": {
  "kernelspec": {
   "display_name": "gds-design",
   "language": "python",
   "name": "python3"
  },
  "language_info": {
   "codemirror_mode": {
    "name": "ipython",
    "version": 3
   },
   "file_extension": ".py",
   "mimetype": "text/x-python",
   "name": "python",
   "nbconvert_exporter": "python",
   "pygments_lexer": "ipython3",
   "version": "3.12.4"
  }
 },
 "nbformat": 4,
 "nbformat_minor": 2
}
